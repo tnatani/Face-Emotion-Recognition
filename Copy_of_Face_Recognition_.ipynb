{
  "nbformat": 4,
  "nbformat_minor": 0,
  "metadata": {
    "colab": {
      "name": "Copy of Face Recognition .ipynb",
      "provenance": [],
      "collapsed_sections": [],
      "authorship_tag": "ABX9TyOH95BZ0IamaohKkGSF5i+s",
      "include_colab_link": true
    },
    "kernelspec": {
      "name": "python3",
      "display_name": "Python 3"
    },
    "language_info": {
      "name": "python"
    }
  },
  "cells": [
    {
      "cell_type": "markdown",
      "metadata": {
        "id": "view-in-github",
        "colab_type": "text"
      },
      "source": [
        "<a href=\"https://colab.research.google.com/github/tnatani/Face-Emotion-Recognition/blob/main/Copy_of_Face_Recognition_.ipynb\" target=\"_parent\"><img src=\"https://colab.research.google.com/assets/colab-badge.svg\" alt=\"Open In Colab\"/></a>"
      ]
    },
    {
      "cell_type": "code",
      "execution_count": null,
      "metadata": {
        "id": "8JcZF6N3S5EU"
      },
      "outputs": [],
      "source": [
        "#Import libraries\n",
        "import pandas as pd\n",
        "import numpy as np\n",
        "import matplotlib.pyplot as plt\n",
        "from sklearn.model_selection import train_test_split\n",
        "from keras.utils import np_utils"
      ]
    },
    {
      "cell_type": "code",
      "source": [
        "# connecting google drive to use dataset\n",
        "from google.colab import drive\n",
        "drive.mount('/content/drive')"
      ],
      "metadata": {
        "colab": {
          "base_uri": "https://localhost:8080/"
        },
        "id": "A_ctkURGS_E6",
        "outputId": "be08cb39-2130-4a81-a15c-4476e197f77d"
      },
      "execution_count": null,
      "outputs": [
        {
          "output_type": "stream",
          "name": "stdout",
          "text": [
            "Drive already mounted at /content/drive; to attempt to forcibly remount, call drive.mount(\"/content/drive\", force_remount=True).\n"
          ]
        }
      ]
    },
    {
      "cell_type": "code",
      "source": [
        "file_location ='/content/drive/MyDrive/fer2013/fer2013.csv'"
      ],
      "metadata": {
        "id": "exSnIqFOTJYs"
      },
      "execution_count": null,
      "outputs": []
    },
    {
      "cell_type": "markdown",
      "source": [
        "**DATA PREPROCESSING**"
      ],
      "metadata": {
        "id": "zW_X_VFHcpDE"
      }
    },
    {
      "cell_type": "code",
      "source": [
        "# load data function is used to load data from the CSV file and return images and labels in the form of one hot encoded value\n",
        "def load_data():\n",
        "  # loading dataset as Dataframe\n",
        "  dataset = pd.read_csv(file_location)\n",
        "  images = []\n",
        "  # converting each image data to float and reshaping it to 48 x 48\n",
        "  for img in dataset.pixels:\n",
        "    reshapedImage = np.fromstring(img, dtype=float, sep=' ').reshape(48,48)\n",
        "    # append all images\n",
        "    images.append(reshapedImage);\n",
        "\n",
        "  # converting labels to one hot encoded values of float32\n",
        "  emotions = pd.get_dummies(dataset.emotion).values.astype('float32')\n",
        "  # return processed images and emotions\n",
        "  return images, emotions\n",
        "\n",
        "images, emotions = load_data()"
      ],
      "metadata": {
        "id": "rrJzfEcocnb0"
      },
      "execution_count": null,
      "outputs": []
    },
    {
      "cell_type": "code",
      "source": [
        "# Splitting data into train, test and validation\n",
        "X_train, X_rem, y_train, y_rem = train_test_split(images, emotions, train_size=0.8, shuffle=True)\n",
        "\n",
        "# Splitting remaining data in half as validation and test data\n",
        "test_size = 0.5\n",
        "X_valid, X_test, y_valid, y_test = train_test_split(X_rem,y_rem, test_size=0.5, shuffle=True)\n",
        "\n",
        "# this function is used to change the data mean to 0 and standard deviation to 1\n",
        "def standarize_data(data):\n",
        "    # convert data to float32\n",
        "    data = np.array(data, 'float32')\n",
        "    # subtract mean from the data\n",
        "    data -= np.mean(data, axis=0)\n",
        "    # dividing the data with standard deviation\n",
        "    data /= np.std(data, axis=0)\n",
        "    return data\n",
        "\n",
        "# standardizing all data\n",
        "X_train = standarize_data(X_train)\n",
        "X_test = standarize_data(X_test)\n",
        "X_valid = standarize_data(X_valid)"
      ],
      "metadata": {
        "id": "IcBPiIZycwiw"
      },
      "execution_count": null,
      "outputs": []
    },
    {
      "cell_type": "code",
      "source": [
        "# reshaping data into image\n",
        "X_train = X_train.reshape(X_train.shape[0], 48,48,1)\n",
        "X_test = X_test.reshape(X_test.shape[0], 48,48,1)\n",
        "X_valid = X_valid.reshape(X_valid.shape[0], 48,48,1)"
      ],
      "metadata": {
        "id": "HZwtgB7xc5bq"
      },
      "execution_count": null,
      "outputs": []
    },
    {
      "cell_type": "code",
      "source": [
        "from keras.models import Sequential\n",
        "from keras.layers import Dense, Dropout, Flatten\n",
        "from keras.layers import Conv2D, MaxPooling2D, BatchNormalization\n",
        "from keras.losses import categorical_crossentropy\n",
        "from tensorflow.keras.optimizers import Adam\n",
        "from keras.models import Model\n",
        "from keras.preprocessing.image import ImageDataGenerator"
      ],
      "metadata": {
        "id": "wl5pjoy0c6aH"
      },
      "execution_count": null,
      "outputs": []
    },
    {
      "cell_type": "code",
      "source": [
        "#parameters for number of training epochs and path to store and load the notebook\n",
        "epochs = 50\n",
        "path = 'drive/MyDrive/fer2013/Colab Notebooks/'"
      ],
      "metadata": {
        "id": "SnSXTbs9h2Ek"
      },
      "execution_count": null,
      "outputs": []
    },
    {
      "cell_type": "code",
      "source": [
        "# it is used to generate image using ImageDataGenerator\n",
        "# It rotates the image in 20 degree range, shift the width and height, flip the image horizontally, and zoom the image\n",
        "image_augmentation = ImageDataGenerator(\n",
        "                        rotation_range=20,\n",
        "                        width_shift_range=0.2,\n",
        "                        height_shift_range=0.2,\n",
        "                        horizontal_flip=True,\n",
        "                        featurewise_std_normalization=False,\n",
        "                        zoom_range=.2\n",
        "                        )"
      ],
      "metadata": {
        "id": "dhyAkhfIc9DV"
      },
      "execution_count": null,
      "outputs": []
    },
    {
      "cell_type": "markdown",
      "source": [
        "**MODEL STRUCTURE**"
      ],
      "metadata": {
        "id": "Ym75pdjGdD_O"
      }
    },
    {
      "cell_type": "code",
      "source": [
        "# Defining model Structure\n",
        "model = Sequential()\n",
        "\n",
        "# Each block contain same type of layers, the only difference being the filter in Conv2D layer\n",
        "# Block 1\n",
        "# Input layer with input shape of 48 x 48 x 1 and 32 filters\n",
        "model.add(Conv2D(32,(3,3),padding='same' ,input_shape=(48,48,1), activation='relu'))\n",
        "model.add(BatchNormalization())\n",
        "model.add(Conv2D(32,(3,3),padding='same', activation='relu'))\n",
        "model.add(BatchNormalization())\n",
        "model.add(MaxPooling2D(pool_size=(2,2)))\n",
        "\n",
        "# Block 2\n",
        "model.add(Conv2D(64,(3,3),padding='same', activation='relu'))\n",
        "model.add(BatchNormalization())\n",
        "model.add(Conv2D(64,(3,3),padding='same', activation='relu'))\n",
        "model.add(BatchNormalization())\n",
        "model.add(MaxPooling2D(pool_size=(2,2)))\n",
        "\n",
        "# Block 3\n",
        "model.add(Conv2D(128,(3,3),padding='same', activation='relu'))\n",
        "model.add(BatchNormalization())\n",
        "model.add(Conv2D(128,(3,3),padding='same', activation='relu'))\n",
        "model.add(BatchNormalization())\n",
        "model.add(MaxPooling2D(pool_size=(2,2)))\n",
        "\n",
        "# Block 4\n",
        "model.add(Conv2D(256,(3,3),padding='same', activation='relu'))\n",
        "model.add(BatchNormalization())\n",
        "model.add(Conv2D(256,(3,3),padding='same', activation='relu'))\n",
        "model.add(BatchNormalization())\n",
        "model.add(MaxPooling2D(pool_size=(2,2)))\n",
        "\n",
        "# Dense Network\n",
        "# the data from the previous layer is flattened and is passed to Dense layer\n",
        "model.add(Flatten())\n",
        "# Dense layer with 256 neurons\n",
        "model.add(Dense(256, activation='relu'))\n",
        "# Dense layer with 128 neurons\n",
        "model.add(Dense(128, activation='relu'))\n",
        "# Dense layer with 64 neurons\n",
        "model.add(Dense(64, activation='relu'))\n",
        "\n",
        "# Output layer that returns probability distribution\n",
        "model.add(Dense(7, activation='softmax'))"
      ],
      "metadata": {
        "id": "b_AuMIUpdGzo"
      },
      "execution_count": null,
      "outputs": []
    },
    {
      "cell_type": "code",
      "source": [
        "# defining loss function, optimizer, and metrics\n",
        "model.compile(loss='categorical_crossentropy', metrics=['accuracy'], optimizer='adam')\n",
        "# displaying the model summary\n",
        "model.summary()"
      ],
      "metadata": {
        "colab": {
          "base_uri": "https://localhost:8080/"
        },
        "id": "YT5O8yPIdnf8",
        "outputId": "0361bae8-a726-4121-beb5-ee14fbc4d81a"
      },
      "execution_count": null,
      "outputs": [
        {
          "output_type": "stream",
          "name": "stdout",
          "text": [
            "Model: \"sequential_8\"\n",
            "_________________________________________________________________\n",
            " Layer (type)                Output Shape              Param #   \n",
            "=================================================================\n",
            " conv2d_56 (Conv2D)          (None, 48, 48, 32)        320       \n",
            "                                                                 \n",
            " batch_normalization_56 (Bat  (None, 48, 48, 32)       128       \n",
            " chNormalization)                                                \n",
            "                                                                 \n",
            " conv2d_57 (Conv2D)          (None, 48, 48, 32)        9248      \n",
            "                                                                 \n",
            " batch_normalization_57 (Bat  (None, 48, 48, 32)       128       \n",
            " chNormalization)                                                \n",
            "                                                                 \n",
            " max_pooling2d_28 (MaxPoolin  (None, 24, 24, 32)       0         \n",
            " g2D)                                                            \n",
            "                                                                 \n",
            " conv2d_58 (Conv2D)          (None, 24, 24, 64)        18496     \n",
            "                                                                 \n",
            " batch_normalization_58 (Bat  (None, 24, 24, 64)       256       \n",
            " chNormalization)                                                \n",
            "                                                                 \n",
            " conv2d_59 (Conv2D)          (None, 24, 24, 64)        36928     \n",
            "                                                                 \n",
            " batch_normalization_59 (Bat  (None, 24, 24, 64)       256       \n",
            " chNormalization)                                                \n",
            "                                                                 \n",
            " max_pooling2d_29 (MaxPoolin  (None, 12, 12, 64)       0         \n",
            " g2D)                                                            \n",
            "                                                                 \n",
            " conv2d_60 (Conv2D)          (None, 12, 12, 128)       73856     \n",
            "                                                                 \n",
            " batch_normalization_60 (Bat  (None, 12, 12, 128)      512       \n",
            " chNormalization)                                                \n",
            "                                                                 \n",
            " conv2d_61 (Conv2D)          (None, 12, 12, 128)       147584    \n",
            "                                                                 \n",
            " batch_normalization_61 (Bat  (None, 12, 12, 128)      512       \n",
            " chNormalization)                                                \n",
            "                                                                 \n",
            " max_pooling2d_30 (MaxPoolin  (None, 6, 6, 128)        0         \n",
            " g2D)                                                            \n",
            "                                                                 \n",
            " conv2d_62 (Conv2D)          (None, 6, 6, 256)         295168    \n",
            "                                                                 \n",
            " batch_normalization_62 (Bat  (None, 6, 6, 256)        1024      \n",
            " chNormalization)                                                \n",
            "                                                                 \n",
            " conv2d_63 (Conv2D)          (None, 6, 6, 256)         590080    \n",
            "                                                                 \n",
            " batch_normalization_63 (Bat  (None, 6, 6, 256)        1024      \n",
            " chNormalization)                                                \n",
            "                                                                 \n",
            " max_pooling2d_31 (MaxPoolin  (None, 3, 3, 256)        0         \n",
            " g2D)                                                            \n",
            "                                                                 \n",
            " flatten_7 (Flatten)         (None, 2304)              0         \n",
            "                                                                 \n",
            " dense_28 (Dense)            (None, 256)               590080    \n",
            "                                                                 \n",
            " dense_29 (Dense)            (None, 128)               32896     \n",
            "                                                                 \n",
            " dense_30 (Dense)            (None, 64)                8256      \n",
            "                                                                 \n",
            " dense_31 (Dense)            (None, 7)                 455       \n",
            "                                                                 \n",
            "=================================================================\n",
            "Total params: 1,807,207\n",
            "Trainable params: 1,805,287\n",
            "Non-trainable params: 1,920\n",
            "_________________________________________________________________\n"
          ]
        }
      ]
    },
    {
      "cell_type": "code",
      "source": [
        "from keras.callbacks import CSVLogger, ModelCheckpoint, EarlyStopping, ReduceLROnPlateau\n",
        "log_file_path = path + 'log/'+ 'emotion.log'\n",
        "\n",
        "# Logging the model output in a log file and storing it in Drive\n",
        "csv_logger = CSVLogger(log_file_path, append=False)\n",
        "\n",
        "# Stopping the model if the validation loss does not increase over during 5 epochs\n",
        "early_stop = EarlyStopping(monitor='val_loss',\n",
        "                          patience=5,\n",
        "                          verbose=1,\n",
        "                          restore_best_weights=True)\n",
        "\n",
        "# Store the values of model during training so it can be loaded in the model\n",
        "checkpoint = ModelCheckpoint(path + '/training/emotion.ckpt',\n",
        "                             save_weights_only=True,\n",
        "                             verbose=1)\n",
        "\n",
        "callbacks = [csv_logger, early_stop, checkpoint]"
      ],
      "metadata": {
        "id": "lID8x1SLdpPw"
      },
      "execution_count": null,
      "outputs": []
    },
    {
      "cell_type": "code",
      "source": [
        "# Training the model using augmented data created with Training data\n",
        "m = model.fit(image_augmentation.flow(X_train, y_train, 64), \n",
        "                    # data for validation\n",
        "                    validation_data = (X_valid, y_valid),\n",
        "                    # shuffling the data\n",
        "                    shuffle = True,\n",
        "                    # display the training process and the data\n",
        "                    verbose = 1,\n",
        "                    # number of rounds to train\n",
        "                    epochs = epochs, \n",
        "                    steps_per_epoch = len(X_train)/64,\n",
        "                    callbacks = callbacks)"
      ],
      "metadata": {
        "id": "YdQzOuQ4eQmD"
      },
      "execution_count": null,
      "outputs": []
    },
    {
      "cell_type": "code",
      "source": [
        "# Evaluate model with test data\n",
        "model.evaluate(X_test, y_test)"
      ],
      "metadata": {
        "colab": {
          "base_uri": "https://localhost:8080/"
        },
        "id": "pQWkjLFnkc4e",
        "outputId": "9e3a47b1-a3af-4bce-aa75-de3016926be6"
      },
      "execution_count": null,
      "outputs": [
        {
          "output_type": "stream",
          "name": "stdout",
          "text": [
            "113/113 [==============================] - 20s 178ms/step - loss: 1.5892 - accuracy: 0.3778\n"
          ]
        },
        {
          "output_type": "execute_result",
          "data": {
            "text/plain": [
              "[1.589195966720581, 0.3778211176395416]"
            ]
          },
          "metadata": {},
          "execution_count": 136
        }
      ]
    },
    {
      "cell_type": "markdown",
      "source": [
        "**SAVE MODEL**\n"
      ],
      "metadata": {
        "id": "ZYLWvJXEhFEN"
      }
    },
    {
      "cell_type": "code",
      "source": [
        "# Saving model using in drive\n",
        "model.save('drive/MyDrive/Colab Notebooks/models/emotion.hdf5')"
      ],
      "metadata": {
        "id": "ifgbZiWqhHd3"
      },
      "execution_count": null,
      "outputs": []
    },
    {
      "cell_type": "markdown",
      "source": [
        "**DATA VISULAZATION** "
      ],
      "metadata": {
        "id": "dZ2vSuDOhL84"
      }
    },
    {
      "cell_type": "code",
      "source": [
        "# Read the log file from the drive\n",
        "log = pd.read_csv('drive/MyDrive/fer2013/Colab Notebooks/log/emotion.log')\n",
        "\n",
        "# Plotting the figure of accuracy and validation accuracy over epoch\n",
        "plt.figure(figsize=(10,5))\n",
        "# Plot the data from the model\n",
        "plt.plot(m.history['accuracy'], label='Accuracy')\n",
        "plt.plot(m.history['val_accuracy'], label='Validation Accuracy')\n",
        "plt.legend()"
      ],
      "metadata": {
        "id": "h3Ql8G-yhEek"
      },
      "execution_count": null,
      "outputs": []
    },
    {
      "cell_type": "markdown",
      "source": [
        "![Screenshot (97).png](data:image/png;base64,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)"
      ],
      "metadata": {
        "id": "K1QExFGvV9nx"
      }
    },
    {
      "cell_type": "code",
      "source": [
        "# Plot of Training data loss and Validation data loss\n",
        "plt.figure(figsize=(10,5))\n",
        "plt.plot(m.history['loss'], label='Train data loss')\n",
        "plt.plot(m.history['val_loss'], label='Validation data loss')\n",
        "plt.legend()"
      ],
      "metadata": {
        "id": "d-BK4zjaODaW"
      },
      "execution_count": null,
      "outputs": []
    },
    {
      "cell_type": "markdown",
      "source": [
        "![image.png](data:image/png;base64,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)"
      ],
      "metadata": {
        "id": "h1OoiTtNk0sn"
      }
    },
    {
      "cell_type": "code",
      "source": [],
      "metadata": {
        "id": "yGAhDItWkrtv"
      },
      "execution_count": null,
      "outputs": []
    }
  ]
}