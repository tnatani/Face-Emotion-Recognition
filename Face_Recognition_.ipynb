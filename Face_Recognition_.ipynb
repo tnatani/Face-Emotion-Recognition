{
  "nbformat": 4,
  "nbformat_minor": 0,
  "metadata": {
    "colab": {
      "name": "Face Recognition .ipynb",
      "provenance": [],
      "collapsed_sections": [],
      "authorship_tag": "ABX9TyOq5rvIgb5pRDcdfkVEVhnN",
      "include_colab_link": true
    },
    "kernelspec": {
      "name": "python3",
      "display_name": "Python 3"
    },
    "language_info": {
      "name": "python"
    }
  },
  "cells": [
    {
      "cell_type": "markdown",
      "metadata": {
        "id": "view-in-github",
        "colab_type": "text"
      },
      "source": [
        "<a href=\"https://colab.research.google.com/github/tnatani/Face-Emotion-Recognition/blob/main/Face_Recognition_.ipynb\" target=\"_parent\"><img src=\"https://colab.research.google.com/assets/colab-badge.svg\" alt=\"Open In Colab\"/></a>"
      ]
    },
    {
      "cell_type": "code",
      "execution_count": 1,
      "metadata": {
        "id": "8JcZF6N3S5EU"
      },
      "outputs": [],
      "source": [
        "#Import libraries\n",
        "import pandas as pd\n",
        "import numpy as np\n",
        "import matplotlib.pyplot as plt\n",
        "from sklearn.model_selection import train_test_split\n",
        "from keras.utils import np_utils"
      ]
    },
    {
      "cell_type": "code",
      "source": [
        "# connecting google drive to use dataset\n",
        "from google.colab import drive\n",
        "drive.mount('/content/drive')"
      ],
      "metadata": {
        "colab": {
          "base_uri": "https://localhost:8080/"
        },
        "id": "A_ctkURGS_E6",
        "outputId": "f146b594-e785-4a0a-879d-2cdae861d819"
      },
      "execution_count": 2,
      "outputs": [
        {
          "output_type": "stream",
          "name": "stdout",
          "text": [
            "Mounted at /content/drive\n"
          ]
        }
      ]
    },
    {
      "cell_type": "code",
      "source": [
        "file_location = '/content/fer2013.csv'"
      ],
      "metadata": {
        "id": "exSnIqFOTJYs"
      },
      "execution_count": 6,
      "outputs": []
    },
    {
      "cell_type": "code",
      "source": [
        "#Read data\n",
        "import pandas as pd\n",
        "train = pd.read_csv('/content/fer2013.csv')"
      ],
      "metadata": {
        "id": "7Q5CgVI9enc4"
      },
      "execution_count": 9,
      "outputs": []
    },
    {
      "cell_type": "code",
      "source": [
        "#Displaying total counts of different labels\n",
        "import matplotlib.pyplot as plt\n",
        "train.emotion.value_counts().plot(kind='bar')\n",
        "plt.title(\"Distribution of emotions,(0=Angry, 1=Disgust, 2=Fear, 3=Happy, 4=Sad, 5=Surprised, 6=Neutral)\")"
      ],
      "metadata": {
        "colab": {
          "base_uri": "https://localhost:8080/",
          "height": 295
        },
        "id": "nBzXnLcteVSB",
        "outputId": "04184bb6-09ae-4d45-d492-3b6480ed91c8"
      },
      "execution_count": 10,
      "outputs": [
        {
          "output_type": "execute_result",
          "data": {
            "text/plain": [
              "Text(0.5, 1.0, 'Distribution of emotions,(0=Angry, 1=Disgust, 2=Fear, 3=Happy, 4=Sad, 5=Surprised, 6=Neutral)')"
            ]
          },
          "metadata": {},
          "execution_count": 10
        },
        {
          "output_type": "display_data",
          "data": {
            "text/plain": [
              "<Figure size 432x288 with 1 Axes>"
            ],
            "image/png": "[encoded data removed]"
          },
          "metadata": {
            "needs_background": "light"
          }
        }
      ]
    },
    {
      "cell_type": "markdown",
      "source": [
        "As we can see we have unbalanced data as every associated emotion has a different class. So we first need to balance the dataset with equal training data per class.\n"
      ],
      "metadata": {
        "id": "DvaLh-qEeyZE"
      }
    },
    {
      "cell_type": "code",
      "source": [
        "#There are very few samples of 'Disgust' so we will merge it with 'Angry'\n",
        "train['emotion'] = train['emotion'].map( {0:0, 1:0, 2:1, 3:2, 4:3, 5:4, 6:5} ).astype(int)\n",
        "train.emotion.value_counts().plot(kind='bar')\n",
        "plt.title(\"Distribution of emotions,(0=Angry,1=Fear, 2=Happy, 3 = Sad, 4=Surprised, 5=Neutral)\")"
      ],
      "metadata": {
        "colab": {
          "base_uri": "https://localhost:8080/",
          "height": 295
        },
        "id": "W3wIwOD8eVv2",
        "outputId": "5b76d2c7-1bc0-4019-82a7-d9bf851ced6e"
      },
      "execution_count": 11,
      "outputs": [
        {
          "output_type": "execute_result",
          "data": {
            "text/plain": [
              "Text(0.5, 1.0, 'Distribution of emotions,(0=Angry,1=Fear, 2=Happy, 3 = Sad, 4=Surprised, 5=Neutral)')"
            ]
          },
          "metadata": {},
          "execution_count": 11
        },
        {
          "output_type": "display_data",
          "data": {
            "text/plain": [
              "<Figure size 432x288 with 1 Axes>"
            ],
            "image/png": "[encoded data removed]"
          },
          "metadata": {
            "needs_background": "light"
          }
        }
      ]
    },
    {
      "cell_type": "code",
      "source": [
        "\"Making copies of images to balance the class which prevents overfitting\"\n",
        "from sklearn.utils import shuffle\n",
        "\n",
        "#As there are higher number of 'Happy' images, making copies of other images\n",
        "df_copy = train[train.emotion != 2]\n",
        "df_copy = df_copy[:int(0.6*len(df_copy.index))]\n",
        "len(df_copy.index)\n",
        "train_balanced = shuffle(pd.concat([train,df_copy]))\n",
        "\n",
        "train_balanced.emotion.value_counts().plot(kind='bar')\n",
        "plt.title(\"Distribution of emotions,(0=Angry,1=Fear, 2=Happy, 3 = Sad, 4=Surprise, 5=Neutral)\")"
      ],
      "metadata": {
        "colab": {
          "base_uri": "https://localhost:8080/",
          "height": 295
        },
        "id": "MEgdZme4e3C9",
        "outputId": "a56ec1c4-b73e-48c0-a7ea-95fb676ff9ae"
      },
      "execution_count": 12,
      "outputs": [
        {
          "output_type": "execute_result",
          "data": {
            "text/plain": [
              "Text(0.5, 1.0, 'Distribution of emotions,(0=Angry,1=Fear, 2=Happy, 3 = Sad, 4=Surprise, 5=Neutral)')"
            ]
          },
          "metadata": {},
          "execution_count": 12
        },
        {
          "output_type": "display_data",
          "data": {
            "text/plain": [
              "<Figure size 432x288 with 1 Axes>"
            ],
            "image/png": "[encoded data removed]"
          },
          "metadata": {
            "needs_background": "light"
          }
        }
      ]
    },
    {
      "cell_type": "code",
      "source": [
        "# load data function is used to load data from the CSV file and return images and labels in the form of one hot encoded value\n",
        "def load_data():\n",
        "  # loading dataset as Dataframe\n",
        "  dataset = pd.read_csv(file_location)\n",
        "  images = []\n",
        "  # converting each image data to float and reshaping it to 48 x 48\n",
        "  for img in dataset.pixels:\n",
        "    reshapedImage = np.fromstring(img, dtype=float, sep=' ').reshape(48,48)\n",
        "    # append all images\n",
        "    images.append(reshapedImage);\n",
        "\n",
        "  # converting labels to one hot encoded values of float32\n",
        "  emotions = pd.get_dummies(dataset.emotion).values.astype('float32')\n",
        "  # return processed images and emotions\n",
        "  return images, emotions\n",
        "\n",
        "images, emotions = load_data()"
      ],
      "metadata": {
        "id": "C0yHWL-SfPLi"
      },
      "execution_count": 14,
      "outputs": []
    },
    {
      "cell_type": "code",
      "source": [
        "# Splitting data into train, test and validation\n",
        "X_train, X_rem, y_train, y_rem = train_test_split(images, emotions, train_size=0.8, shuffle=True)\n",
        "\n",
        "# Splitting remaining data in half as validation and test data\n",
        "test_size = 0.5\n",
        "X_valid, X_test, y_valid, y_test = train_test_split(X_rem,y_rem, test_size=0.5, shuffle=True)\n",
        "\n",
        "# this function is used to change the data mean to 0 and standard deviation to 1\n",
        "def standarize_data(data):\n",
        "    # convert data to float32\n",
        "    data = np.array(data, 'float32')\n",
        "    # subtract mean from the data\n",
        "    data -= np.mean(data, axis=0)\n",
        "    # dividing the data with standard deviation\n",
        "    data /= np.std(data, axis=0)\n",
        "    return data\n",
        "\n",
        "# standardizing all data\n",
        "X_train = standarize_data(X_train)\n",
        "X_test = standarize_data(X_test)\n",
        "X_valid = standarize_data(X_valid)"
      ],
      "metadata": {
        "id": "N5_Y2aoTgHD0"
      },
      "execution_count": 15,
      "outputs": []
    },
    {
      "cell_type": "code",
      "source": [
        "# reshaping data into image\n",
        "X_train = X_train.reshape(X_train.shape[0], 48,48,1)\n",
        "X_test = X_test.reshape(X_test.shape[0], 48,48,1)\n",
        "X_valid = X_valid.reshape(X_valid.shape[0], 48,48,1)"
      ],
      "metadata": {
        "id": "-VmPXDn5gPRZ"
      },
      "execution_count": 16,
      "outputs": []
    },
    {
      "cell_type": "code",
      "source": [],
      "metadata": {
        "id": "EzFF4hihgSf5"
      },
      "execution_count": null,
      "outputs": []
    }
  ]
}